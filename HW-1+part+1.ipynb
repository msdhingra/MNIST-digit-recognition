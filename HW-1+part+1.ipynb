{
 "cells": [
  {
   "cell_type": "code",
   "execution_count": 63,
   "metadata": {},
   "outputs": [],
   "source": [
    "import numpy as np\n",
    "import pandas as pd"
   ]
  },
  {
   "cell_type": "code",
   "execution_count": 64,
   "metadata": {
    "collapsed": true
   },
   "outputs": [],
   "source": [
    "from mlxtend.data import loadlocal_mnist\n",
    "import math\n",
    "import matplotlib.pyplot as plt\n",
    "%matplotlib inline"
   ]
  },
  {
   "cell_type": "code",
   "execution_count": 65,
   "metadata": {},
   "outputs": [
    {
     "name": "stdout",
     "output_type": "stream",
     "text": [
      "[Errno 2] No such file or directory: 'MNIST Original'\n",
      "/home/manpreetdhingra1996/MNIST Original\n"
     ]
    }
   ],
   "source": [
    "cd MNIST Original"
   ]
  },
  {
   "cell_type": "code",
   "execution_count": 66,
   "metadata": {},
   "outputs": [
    {
     "data": {
      "text/plain": [
       "(60000, 784)"
      ]
     },
     "execution_count": 66,
     "metadata": {},
     "output_type": "execute_result"
    }
   ],
   "source": [
    "#load mnist data images as X ,labels as Y\n",
    "X, Y = loadlocal_mnist(images_path='train-images.idx3-ubyte', labels_path='train-labels.idx1-ubyte')\n",
    "#load mnist data images as x ,labels as y (Test data)\n",
    "x,y=loadlocal_mnist(images_path='t10k-images.idx3-ubyte', labels_path='t10k-labels.idx1-ubyte')\n",
    "#One hot encoding \n",
    "Labels=pd.get_dummies(Y)\n",
    "\n",
    "samples=X.shape[0]\n",
    "features=X.shape[1]\n",
    "samples,features"
   ]
  },
  {
   "cell_type": "code",
   "execution_count": null,
   "metadata": {},
   "outputs": [],
   "source": []
  },
  {
   "cell_type": "code",
   "execution_count": 67,
   "metadata": {
    "collapsed": true
   },
   "outputs": [],
   "source": [
    "X=X/255"
   ]
  },
  {
   "cell_type": "code",
   "execution_count": 68,
   "metadata": {},
   "outputs": [
    {
     "data": {
      "text/plain": [
       "((60000, 784), array([[0., 0., 0., ..., 0., 0., 0.],\n",
       "        [0., 0., 0., ..., 0., 0., 0.],\n",
       "        [0., 0., 0., ..., 0., 0., 0.],\n",
       "        ...,\n",
       "        [0., 0., 0., ..., 0., 0., 0.],\n",
       "        [0., 0., 0., ..., 0., 0., 0.],\n",
       "        [0., 0., 0., ..., 0., 0., 0.]]))"
      ]
     },
     "execution_count": 68,
     "metadata": {},
     "output_type": "execute_result"
    }
   ],
   "source": [
    "X.shape,X"
   ]
  },
  {
   "cell_type": "code",
   "execution_count": 69,
   "metadata": {},
   "outputs": [],
   "source": [
    "X_ones=np.ones((60000,1))\n"
   ]
  },
  {
   "cell_type": "code",
   "execution_count": 70,
   "metadata": {},
   "outputs": [],
   "source": [
    "X1=np.concatenate(((X,X_ones)),axis=1)\n"
   ]
  },
  {
   "cell_type": "code",
   "execution_count": 71,
   "metadata": {},
   "outputs": [],
   "source": [
    "W=np.random.uniform(-1,1,(785,10))\n"
   ]
  },
  {
   "cell_type": "code",
   "execution_count": 72,
   "metadata": {},
   "outputs": [
    {
     "data": {
      "text/plain": [
       "array([[ 0.78992492,  0.18089922, -0.08962053, ..., -0.28416579,\n",
       "        -0.56673845,  0.33613392],\n",
       "       [ 0.2497532 ,  0.41026081, -0.62543804, ...,  0.7011776 ,\n",
       "        -0.99345641,  0.54492087],\n",
       "       [-0.5232753 , -0.24958937,  0.17573651, ..., -0.12801903,\n",
       "         0.85070356, -0.20335564],\n",
       "       ...,\n",
       "       [-0.15613625, -0.00338047,  0.37573054, ...,  0.12126266,\n",
       "         0.09679924,  0.58555666],\n",
       "       [-0.05638891,  0.25700105, -0.50353801, ..., -0.96599963,\n",
       "        -0.37073174, -0.42440698],\n",
       "       [-0.82842302, -0.19669158,  0.078652  , ...,  0.50770531,\n",
       "        -0.18525865, -0.28798117]])"
      ]
     },
     "execution_count": 72,
     "metadata": {},
     "output_type": "execute_result"
    }
   ],
   "source": [
    "W"
   ]
  },
  {
   "cell_type": "code",
   "execution_count": 73,
   "metadata": {
    "collapsed": true
   },
   "outputs": [],
   "source": [
    "Z=np.dot(X1,W)"
   ]
  },
  {
   "cell_type": "code",
   "execution_count": null,
   "metadata": {},
   "outputs": [],
   "source": []
  },
  {
   "cell_type": "code",
   "execution_count": 74,
   "metadata": {
    "collapsed": true
   },
   "outputs": [],
   "source": [
    "def softmax(X):\n",
    "    \"\"\"Compute the softmax of vector x.\"\"\"\n",
    "    exps = np.exp(X)\n",
    "    return exps / np.sum(exps,axis=1).reshape(-1,1)"
   ]
  },
  {
   "cell_type": "code",
   "execution_count": 75,
   "metadata": {
    "collapsed": true
   },
   "outputs": [],
   "source": [
    "#def stable_softmax(X):\n",
    "#    exps = np.exp(X - np.max(X))\n",
    "#    return exps / np.sum(exps,axis=1).reshape(-1,1)"
   ]
  },
  {
   "cell_type": "code",
   "execution_count": 76,
   "metadata": {},
   "outputs": [],
   "source": [
    "Yout=p=softmax(Z)\n"
   ]
  },
  {
   "cell_type": "code",
   "execution_count": null,
   "metadata": {},
   "outputs": [],
   "source": []
  },
  {
   "cell_type": "code",
   "execution_count": 77,
   "metadata": {
    "collapsed": true
   },
   "outputs": [],
   "source": [
    "#Y=Y.argmax(axis=1)"
   ]
  },
  {
   "cell_type": "code",
   "execution_count": 78,
   "metadata": {},
   "outputs": [
    {
     "data": {
      "text/plain": [
       "array([5, 0, 4, ..., 5, 6, 8], dtype=uint8)"
      ]
     },
     "execution_count": 78,
     "metadata": {},
     "output_type": "execute_result"
    }
   ],
   "source": [
    "Y"
   ]
  },
  {
   "cell_type": "code",
   "execution_count": null,
   "metadata": {
    "collapsed": true
   },
   "outputs": [],
   "source": []
  },
  {
   "cell_type": "code",
   "execution_count": 79,
   "metadata": {},
   "outputs": [
    {
     "data": {
      "text/plain": [
       "8.584721257007326"
      ]
     },
     "execution_count": 79,
     "metadata": {},
     "output_type": "execute_result"
    }
   ],
   "source": [
    "log_likelihood = np.log(p)\n",
    "c_e = -np.mean(np.sum(Labels*log_likelihood,axis=1))\n",
    "c_e"
   ]
  },
  {
   "cell_type": "code",
   "execution_count": null,
   "metadata": {},
   "outputs": [],
   "source": []
  },
  {
   "cell_type": "code",
   "execution_count": 80,
   "metadata": {},
   "outputs": [],
   "source": [
    "c_e_d=np.dot((p-Labels).T,X1).T\n"
   ]
  },
  {
   "cell_type": "markdown",
   "metadata": {},
   "source": [
    "for i in range(20):\n",
    "    Step=0.00001\n",
    "    Z=X1.dot(W)\n",
    "    p=softmax(Z)\n",
    "    log_likelihood1 = np.log(p)\n",
    "    c_e_d=np.dot((p-Labels).T,X1).T\n",
    "    W=W-(Step*c_e_d)\n",
    "    c_e = np.mean(-np.sum(Labels*log_likelihood1,axis=1))\n",
    "    print(c_e)"
   ]
  },
  {
   "cell_type": "code",
   "execution_count": 81,
   "metadata": {},
   "outputs": [
    {
     "name": "stdout",
     "output_type": "stream",
     "text": [
      "12.528164966632612\n",
      "12.528164966632612\n",
      "12.528164966632612\n",
      "12.528164966632612\n",
      "12.528164966632612\n",
      "12.528164966632612\n",
      "12.528164966632612\n",
      "12.528164966632612\n",
      "12.528164966632612\n",
      "12.528164966632612\n",
      "12.528164966632612\n",
      "12.528164966632612\n",
      "12.528164966632612\n",
      "12.528164966632612\n",
      "12.528164966632612\n",
      "12.528164966632612\n",
      "12.528164966632612\n",
      "12.528164966632612\n",
      "12.528164966632612\n",
      "12.528164966632612\n"
     ]
    }
   ],
   "source": [
    "for z in range(20):\n",
    "    c_e=0\n",
    "    for j in range(500):\n",
    "        i=120\n",
    "        X_batch=X1[j*i:(j*i)+i,:]\n",
    "        Labels_batch=Labels[j*i:(j*i)+i]\n",
    "        Step=0.01\n",
    "        Z=X_batch.dot(W)\n",
    "        p=sigmoid(Z)\n",
    "        log_likelihood = np.log(p)\n",
    "        cross_entropy=-np.mean(np.sum(Labels_batch*log2,axis=1))\n",
    "        c_e = cross_entropy+c_e\n",
    "        c_e_d=np.dot((p-Labels_batch).T,X_batch).T\n",
    "        W=W-(Step*c_e_d)\n",
    "    crs_ent=c_e/500\n",
    "    print(crs_ent)"
   ]
  },
  {
   "cell_type": "code",
   "execution_count": 82,
   "metadata": {
    "collapsed": true
   },
   "outputs": [],
   "source": [
    "#NN on test data without hidden layer\n",
    "Xt_ones=np.ones((10000,1))\n",
    "Xt_new=np.append((x/255),Xt_ones,axis=1)\n",
    "#Xt_new.shape\n",
    "Z_t=Xt_new.dot(W)\n",
    "Z_t.shape\n",
    "A_t=softmax(Z_t)\n",
    "Labels_t=pd.get_dummies(y)"
   ]
  },
  {
   "cell_type": "code",
   "execution_count": 83,
   "metadata": {},
   "outputs": [
    {
     "data": {
      "text/plain": [
       "0.8934"
      ]
     },
     "execution_count": 83,
     "metadata": {},
     "output_type": "execute_result"
    }
   ],
   "source": [
    "## Accuracy\n",
    "from sklearn.metrics import accuracy_score\n",
    "accuracy_score(np.argmax(np.array(Labels_t),axis=1), np.argmax(A_t,axis=1))"
   ]
  },
  {
   "cell_type": "markdown",
   "metadata": {},
   "source": [
    "# NN with one hidden Layer"
   ]
  },
  {
   "cell_type": "code",
   "execution_count": 22,
   "metadata": {},
   "outputs": [
    {
     "data": {
      "text/plain": [
       "(60000, 785)"
      ]
     },
     "execution_count": 22,
     "metadata": {},
     "output_type": "execute_result"
    }
   ],
   "source": [
    "X1.shape"
   ]
  },
  {
   "cell_type": "code",
   "execution_count": 23,
   "metadata": {
    "collapsed": true
   },
   "outputs": [],
   "source": [
    "W1=np.random.uniform(-1,1,(785,100))"
   ]
  },
  {
   "cell_type": "code",
   "execution_count": 24,
   "metadata": {
    "collapsed": true
   },
   "outputs": [],
   "source": [
    "Z1=np.dot(X1,W1)\n"
   ]
  },
  {
   "cell_type": "code",
   "execution_count": 25,
   "metadata": {
    "collapsed": true
   },
   "outputs": [],
   "source": [
    "def sigmoid(x):\n",
    "    return 1 / (1 + np.exp(-x))"
   ]
  },
  {
   "cell_type": "code",
   "execution_count": 26,
   "metadata": {
    "collapsed": true
   },
   "outputs": [],
   "source": [
    "A1=sigmoid(Z1)"
   ]
  },
  {
   "cell_type": "code",
   "execution_count": 27,
   "metadata": {},
   "outputs": [
    {
     "data": {
      "text/plain": [
       "(60000, 100)"
      ]
     },
     "execution_count": 27,
     "metadata": {},
     "output_type": "execute_result"
    }
   ],
   "source": [
    "A1.shape"
   ]
  },
  {
   "cell_type": "code",
   "execution_count": 28,
   "metadata": {},
   "outputs": [],
   "source": [
    "B=np.ones((60000,1))\n"
   ]
  },
  {
   "cell_type": "code",
   "execution_count": 29,
   "metadata": {},
   "outputs": [],
   "source": [
    "A11=np.concatenate(((A1,B)),axis=1)\n"
   ]
  },
  {
   "cell_type": "code",
   "execution_count": null,
   "metadata": {
    "collapsed": true
   },
   "outputs": [],
   "source": []
  },
  {
   "cell_type": "code",
   "execution_count": 30,
   "metadata": {
    "collapsed": true
   },
   "outputs": [],
   "source": [
    "W2=np.random.uniform(-1,1,(100,10))"
   ]
  },
  {
   "cell_type": "code",
   "execution_count": 31,
   "metadata": {},
   "outputs": [],
   "source": [
    "Z2=np.dot(A1,W2)\n"
   ]
  },
  {
   "cell_type": "code",
   "execution_count": 32,
   "metadata": {},
   "outputs": [],
   "source": [
    "A2=softmax(Z2)\n"
   ]
  },
  {
   "cell_type": "code",
   "execution_count": 33,
   "metadata": {
    "collapsed": true
   },
   "outputs": [],
   "source": [
    "log_likelihood=np.log(A2)"
   ]
  },
  {
   "cell_type": "code",
   "execution_count": 34,
   "metadata": {},
   "outputs": [
    {
     "data": {
      "text/plain": [
       "5.313637193528136"
      ]
     },
     "execution_count": 34,
     "metadata": {},
     "output_type": "execute_result"
    }
   ],
   "source": [
    "c_e = -np.mean(np.sum(Labels*log_likelihood,axis=1))\n",
    "c_e"
   ]
  },
  {
   "cell_type": "code",
   "execution_count": 35,
   "metadata": {},
   "outputs": [],
   "source": [
    "c_e_d_W2=np.dot(((A2-Labels).T),A1).T\n"
   ]
  },
  {
   "cell_type": "code",
   "execution_count": 36,
   "metadata": {},
   "outputs": [],
   "source": [
    "c_e_d_W1=np.dot(((np.dot((A2-Labels),W2.T)*A1*(1-A1)).T),X1).T\n"
   ]
  },
  {
   "cell_type": "code",
   "execution_count": null,
   "metadata": {},
   "outputs": [],
   "source": []
  },
  {
   "cell_type": "code",
   "execution_count": null,
   "metadata": {},
   "outputs": [],
   "source": []
  },
  {
   "cell_type": "code",
   "execution_count": 37,
   "metadata": {},
   "outputs": [
    {
     "name": "stdout",
     "output_type": "stream",
     "text": [
      "0.4971248184368627\n",
      "0.24419862183708954\n",
      "0.19518808026813134\n",
      "0.16479583331437578\n",
      "0.14316606283172678\n",
      "0.12663571365084023\n",
      "0.11332685856752443\n",
      "0.10223817330511414\n",
      "0.09281689515020008\n",
      "0.08469703847304504\n",
      "0.07761878755874561\n",
      "0.07138382862891518\n",
      "0.06583299232021145\n",
      "0.06084276062816611\n",
      "0.05631638399948295\n",
      "0.05217743681100873\n",
      "0.04837112909209335\n",
      "0.04486192266341491\n",
      "0.04162713686741149\n",
      "0.0386488746009176\n"
     ]
    }
   ],
   "source": [
    "for z in range(20):\n",
    "    c_e=0\n",
    "    for j in range(500):\n",
    "        i=120\n",
    "        X_batch=X1[j*i:(j*i)+i,:]\n",
    "        Labels_batch=Labels[j*i:(j*i)+i]\n",
    "        \n",
    "        Step=0.01\n",
    "        Z1=X_batch.dot(W1)\n",
    "        \n",
    "        A1=sigmoid(Z1)\n",
    "        Z2=A1.dot(W2)\n",
    "        A2=softmax(Z2)\n",
    "        log2 = np.log(A2)\n",
    "        cross_entropy=-np.mean(np.sum(Labels_batch*log2,axis=1))\n",
    "        c_e = cross_entropy+c_e\n",
    "        \n",
    "        c_e_d_W2=np.dot(((A2-Labels_batch).T),A1).T\n",
    "        c_e_d_W1=np.dot(((np.dot((A2-Labels_batch),W2.T)*A1*(1-A1)).T),X_batch).T\n",
    "        W2=W2-(Step*c_e_d_W2)\n",
    "        W1=W1-(Step*c_e_d_W1)\n",
    "    crs_ent=c_e/500\n",
    "    print(crs_ent)"
   ]
  },
  {
   "cell_type": "code",
   "execution_count": 163,
   "metadata": {},
   "outputs": [
    {
     "data": {
      "text/plain": [
       "((120, 10), (60000, 10), (120, 785), (120, 100))"
      ]
     },
     "execution_count": 163,
     "metadata": {},
     "output_type": "execute_result"
    }
   ],
   "source": [
    "#Labels_batch.shape,log_likelihood.shape , X_batch.shape , Z1.shape ,"
   ]
  },
  {
   "cell_type": "code",
   "execution_count": 108,
   "metadata": {},
   "outputs": [
    {
     "data": {
      "text/plain": [
       "((60000, 10),\n",
       " (60000, 10),\n",
       " (120, 100),\n",
       " (100, 10),\n",
       " (120, 100),\n",
       " (120, 100),\n",
       " (60000, 785),\n",
       " (785, 100))"
      ]
     },
     "execution_count": 108,
     "metadata": {},
     "output_type": "execute_result"
    }
   ],
   "source": [
    "#A2.shape,Labels.shape,A1.shape,W2.shape,A1.shape,(1-A1).shape,X1.shape,W1.shape"
   ]
  },
  {
   "cell_type": "code",
   "execution_count": null,
   "metadata": {
    "collapsed": true
   },
   "outputs": [],
   "source": []
  },
  {
   "cell_type": "markdown",
   "metadata": {},
   "source": [
    "for i in range(20):\n",
    "    Step=0.00001\n",
    "    Z1=X1.dot(W1)\n",
    "    Z2=A1.dot(W2)\n",
    "    A1=sigmoid(Z1)\n",
    "    A2=softmax(Z2)\n",
    "    log_likelihood = np.log(A2)\n",
    "    c_e_d_W2=np.dot(((A2-Labels).T),A1).T\n",
    "    c_e_d_W1=np.dot(((np.dot((A2-Labels),W2.T)*A1*(1-A1)).T),X1).T\n",
    "    W2=W2-(Step*c_e_d_W2)\n",
    "    W1=W1-(Step*c_e_d_W1)\n",
    "    c_e = np.mean(-np.sum(Labels*log_likelihood,axis=1))\n",
    "    print(c_e)"
   ]
  },
  {
   "cell_type": "code",
   "execution_count": 38,
   "metadata": {},
   "outputs": [
    {
     "data": {
      "text/plain": [
       "((10000, 785), (785, 100), (10000, 100))"
      ]
     },
     "execution_count": 38,
     "metadata": {},
     "output_type": "execute_result"
    }
   ],
   "source": [
    "Xt_ones=np.ones((10000,1))\n",
    "Xt_new=np.append((x/255),Xt_ones,axis=1)\n",
    "Z_t_1=Xt_new.dot(W1)\n",
    "Xt_new.shape,W1.shape,Z_t_1.shape\n"
   ]
  },
  {
   "cell_type": "code",
   "execution_count": 39,
   "metadata": {},
   "outputs": [],
   "source": [
    "A_t_1=sigmoid(Z_t_1)\n",
    "Z_t_2=A_t_1.dot(W2)\n",
    "A_t_2=softmax(Z_t_2)"
   ]
  },
  {
   "cell_type": "code",
   "execution_count": 40,
   "metadata": {},
   "outputs": [],
   "source": [
    "\n",
    "\n",
    "\n",
    "\n",
    "\n",
    "Labels_t=pd.get_dummies(y)\n",
    "    "
   ]
  },
  {
   "cell_type": "code",
   "execution_count": 41,
   "metadata": {},
   "outputs": [
    {
     "data": {
      "text/plain": [
       "0.9633"
      ]
     },
     "execution_count": 41,
     "metadata": {},
     "output_type": "execute_result"
    }
   ],
   "source": [
    "from sklearn.metrics import accuracy_score\n",
    "accuracy_score(np.argmax(np.array(Labels_t),axis=1), np.argmax(A_t_2,axis=1))"
   ]
  },
  {
   "cell_type": "markdown",
   "metadata": {
    "collapsed": true
   },
   "source": [
    "# NN with two hidden layers."
   ]
  },
  {
   "cell_type": "code",
   "execution_count": 163,
   "metadata": {
    "collapsed": true
   },
   "outputs": [],
   "source": [
    "W1=np.random.uniform(-1,1,(785,100))"
   ]
  },
  {
   "cell_type": "code",
   "execution_count": 164,
   "metadata": {},
   "outputs": [
    {
     "data": {
      "text/plain": [
       "5.369611029743196"
      ]
     },
     "execution_count": 164,
     "metadata": {},
     "output_type": "execute_result"
    }
   ],
   "source": [
    "Z1=np.dot(X1,W1)\n",
    "def sigmoid(x):\n",
    "    return 1 / (1 + np.exp(-x))\n",
    "A1=sigmoid(Z1)\n",
    "B1=np.ones((60000,1))\n",
    "A11=np.concatenate(((A1,B1)),axis=1)\n",
    "W2=np.random.uniform(-1,1,(100,100))\n",
    "Z2=np.dot(A1,W2)\n",
    "A2=sigmoid(Z2)\n",
    "B2=np.ones((60000,1))\n",
    "A22=np.concatenate(((A2,B2)),axis=1)\n",
    "W3=np.random.uniform(-1,1,(100,10))\n",
    "Z3=np.dot(A2,W3)\n",
    "A3=softmax(Z3)\n",
    "log_likelihood=np.log(A3)\n",
    "c_e = -np.mean(np.sum(Labels*log_likelihood,axis=1))\n",
    "c_e"
   ]
  },
  {
   "cell_type": "code",
   "execution_count": 165,
   "metadata": {},
   "outputs": [
    {
     "data": {
      "text/plain": [
       "((60000, 100),\n",
       " (60000, 1),\n",
       " (60000, 100),\n",
       " (60000, 1),\n",
       " (60000, 10),\n",
       " (60000, 10),\n",
       " (100, 10),\n",
       " (100, 100))"
      ]
     },
     "execution_count": 165,
     "metadata": {},
     "output_type": "execute_result"
    }
   ],
   "source": [
    "A1.shape,B1.shape,A2.shape,B2.shape,A3.shape,Labels.shape,W3.shape,W2.shape"
   ]
  },
  {
   "cell_type": "code",
   "execution_count": null,
   "metadata": {},
   "outputs": [],
   "source": []
  },
  {
   "cell_type": "code",
   "execution_count": 166,
   "metadata": {},
   "outputs": [
    {
     "data": {
      "text/plain": [
       "(785, 100)"
      ]
     },
     "execution_count": 166,
     "metadata": {},
     "output_type": "execute_result"
    }
   ],
   "source": [
    "c_e_d_W1=np.dot(((np.dot((np.dot((A3-Labels),W3.T)*A2*(1-A2)),W2)*A1*(1-A1))).T,X1).T\n",
    "c_e_d_W1.shape"
   ]
  },
  {
   "cell_type": "code",
   "execution_count": 167,
   "metadata": {},
   "outputs": [
    {
     "data": {
      "text/plain": [
       "(100, 100)"
      ]
     },
     "execution_count": 167,
     "metadata": {},
     "output_type": "execute_result"
    }
   ],
   "source": [
    "c_e_d_W2=np.dot((np.dot((A3-Labels),W3.T)*A2*(1-A2)).T,A1)\n",
    "c_e_d_W2.shape"
   ]
  },
  {
   "cell_type": "code",
   "execution_count": 168,
   "metadata": {},
   "outputs": [
    {
     "data": {
      "text/plain": [
       "(100, 10)"
      ]
     },
     "execution_count": 168,
     "metadata": {},
     "output_type": "execute_result"
    }
   ],
   "source": [
    "c_e_d_W3=np.dot(((A3-Labels).T),A2).T\n",
    "c_e_d_W3.shape"
   ]
  },
  {
   "cell_type": "code",
   "execution_count": 169,
   "metadata": {
    "scrolled": true
   },
   "outputs": [
    {
     "name": "stdout",
     "output_type": "stream",
     "text": [
      "0.9194490615664943\n",
      "0.48264924711994517\n",
      "0.42755517809610044\n",
      "0.41305728517416496\n",
      "0.40457340742633374\n",
      "0.401535010851391\n",
      "0.400908778007078\n",
      "0.4003474041659847\n",
      "0.3929410002317521\n",
      "0.38840500928720506\n",
      "0.37994964609241294\n",
      "0.36920416047721455\n",
      "0.37299446629408006\n",
      "0.37886874386681396\n",
      "0.4017615316853526\n",
      "0.43290880502589596\n",
      "0.43588743302085187\n",
      "0.42975865487551024\n",
      "0.4251272146204596\n",
      "0.43140561180752146\n"
     ]
    }
   ],
   "source": [
    "for z in range(20):\n",
    "    c_e=0\n",
    "    for j in range(500):\n",
    "        i=120\n",
    "        X_batch=X1[j*i:(j*i)+i,:]\n",
    "        Labels_batch=Labels[j*i:(j*i)+i]\n",
    "        Step=0.01\n",
    "        Z1=X_batch.dot(W1)\n",
    "        A1=sigmoid(Z1)\n",
    "        Z2=A1.dot(W2)\n",
    "        A2=sigmoid(Z2)\n",
    "        Z3=A2.dot(W3)\n",
    "        A3=softmax(Z3)\n",
    "        log2 = np.log(A3)\n",
    "        cross_entropy=-np.mean(np.sum(Labels_batch*log2,axis=1))\n",
    "        c_e = cross_entropy+c_e\n",
    "        c_e_d_W1=np.dot(((np.dot((np.dot((A3-Labels_batch),W3.T)*A2*(1-A2)),W2)*A1*(1-A1))).T,X_batch).T\n",
    "        c_e_d_W2=np.dot((np.dot((A3-Labels_batch),W3.T)*A2*(1-A2)).T,A1)\n",
    "        c_e_d_W3=np.dot(((A3-Labels_batch).T),A2).T\n",
    "        W3=W3-(Step*c_e_d_W3)\n",
    "        W2=W2-(Step*c_e_d_W2)\n",
    "        W1=W1-(Step*c_e_d_W1)\n",
    "    crs_ent=c_e/500\n",
    "    print(crs_ent)"
   ]
  },
  {
   "cell_type": "code",
   "execution_count": 170,
   "metadata": {},
   "outputs": [
    {
     "data": {
      "text/plain": [
       "((10000, 785), (785, 100), (10000, 100))"
      ]
     },
     "execution_count": 170,
     "metadata": {},
     "output_type": "execute_result"
    }
   ],
   "source": [
    "Xt_ones=np.ones((10000,1))\n",
    "Xt_new=np.append((x/255),Xt_ones,axis=1)\n",
    "Z_t_1=Xt_new.dot(W1)\n",
    "Xt_new.shape,W1.shape,Z_t_1.shape\n"
   ]
  },
  {
   "cell_type": "code",
   "execution_count": 171,
   "metadata": {
    "collapsed": true
   },
   "outputs": [],
   "source": [
    "A_t_1=sigmoid(Z_t_1)\n",
    "Z_t_2=A_t_1.dot(W2)\n",
    "A_t_2=sigmoid(Z_t_2)\n",
    "Z_t_3=A_t_2.dot(W3)\n",
    "A_t_3=softmax(Z_t_3)"
   ]
  },
  {
   "cell_type": "code",
   "execution_count": 172,
   "metadata": {
    "collapsed": true
   },
   "outputs": [],
   "source": [
    "Labels_t=pd.get_dummies(y)"
   ]
  },
  {
   "cell_type": "code",
   "execution_count": 173,
   "metadata": {},
   "outputs": [
    {
     "data": {
      "text/plain": [
       "0.8743"
      ]
     },
     "execution_count": 173,
     "metadata": {},
     "output_type": "execute_result"
    }
   ],
   "source": [
    "from sklearn.metrics import accuracy_score\n",
    "accuracy_score(np.argmax(np.array(Labels_t),axis=1), np.argmax(A_t_3,axis=1))"
   ]
  },
  {
   "cell_type": "code",
   "execution_count": null,
   "metadata": {
    "collapsed": true
   },
   "outputs": [],
   "source": []
  }
 ],
 "metadata": {
  "kernelspec": {
   "display_name": "Python 3",
   "language": "python",
   "name": "python3"
  },
  "language_info": {
   "codemirror_mode": {
    "name": "ipython",
    "version": 3
   },
   "file_extension": ".py",
   "mimetype": "text/x-python",
   "name": "python",
   "nbconvert_exporter": "python",
   "pygments_lexer": "ipython3",
   "version": "3.5.3"
  }
 },
 "nbformat": 4,
 "nbformat_minor": 2
}
